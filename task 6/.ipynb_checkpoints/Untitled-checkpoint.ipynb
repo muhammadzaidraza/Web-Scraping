{
 "cells": [
  {
   "cell_type": "markdown",
   "metadata": {},
   "source": [
    " Write a Python program to get the number of people visiting a U.S. government website right now.  https://analytics.usa.gov/data/live/realtime.json"
   ]
  },
  {
   "cell_type": "code",
   "execution_count": 8,
   "metadata": {},
   "outputs": [
    {
     "name": "stdout",
     "output_type": "stream",
     "text": [
      "Number of people visiting a U.S. government website-\n",
      "Active Users Right Now:\n",
      "217097\n"
     ]
    }
   ],
   "source": [
    "import requests\n",
    "import pandas as pd\n",
    "\n",
    "j = requests.get(\"https://analytics.usa.gov/data/live/realtime.json\").json()\n",
    "print(\"Number of people visiting a U.S. government website-\")\n",
    "print(\"Active Users Right Now:\")\n",
    "print(j['data'][0][\"active_visitors\"])"
   ]
  }
 ],
 "metadata": {
  "kernelspec": {
   "display_name": "Python 3",
   "language": "python",
   "name": "python3"
  },
  "language_info": {
   "codemirror_mode": {
    "name": "ipython",
    "version": 3
   },
   "file_extension": ".py",
   "mimetype": "text/x-python",
   "name": "python",
   "nbconvert_exporter": "python",
   "pygments_lexer": "ipython3",
   "version": "3.8.5"
  }
 },
 "nbformat": 4,
 "nbformat_minor": 4
}
