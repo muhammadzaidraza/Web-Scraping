{
 "cells": [
  {
   "cell_type": "markdown",
   "metadata": {},
   "source": [
    "Write a Python program to get datasets of first 10 pages currently listed on data.gov."
   ]
  },
  {
   "cell_type": "code",
   "execution_count": 7,
   "metadata": {},
   "outputs": [
    {
     "name": "stdout",
     "output_type": "stream",
     "text": [
      "<Response [200]>\n",
      "<Response [200]>\n",
      "<Response [200]>\n",
      "<Response [200]>\n",
      "<Response [200]>\n",
      "<Response [200]>\n",
      "<Response [200]>\n",
      "<Response [200]>\n",
      "<Response [200]>\n",
      "<Response [200]>\n"
     ]
    }
   ],
   "source": [
    "import requests\n",
    "from bs4 import BeautifulSoup\n",
    "import re\n",
    "import pandas as pd\n",
    "from time import sleep\n",
    "from random import randint\n",
    "import numpy as np\n",
    "\n",
    "pages = np.arange(1,11)\n",
    "texts=[]\n",
    "links=[]\n",
    "\n",
    "for page in pages:\n",
    "    html = requests.get(\"https://catalog.data.gov/dataset?page=\" + str(page))\n",
    "    #print(html)\n",
    "    soup = BeautifulSoup(html.content, 'lxml')\n",
    "    lst = soup.find_all(\"h3\",class_=\"dataset-heading\")\n",
    "    for tag in lst:\n",
    "        texts.append(tag.next_element.next_element.text)\n",
    "        l=(tag.next_element.next_element[\"href\"])\n",
    "        complete = \"https://catalog.data.gov/\" + l\n",
    "        links.append(complete)\n",
    "        sleep(randint(2,10))"
   ]
  },
  {
   "cell_type": "code",
   "execution_count": 8,
   "metadata": {},
   "outputs": [
    {
     "data": {
      "text/html": [
       "<div>\n",
       "<style scoped>\n",
       "    .dataframe tbody tr th:only-of-type {\n",
       "        vertical-align: middle;\n",
       "    }\n",
       "\n",
       "    .dataframe tbody tr th {\n",
       "        vertical-align: top;\n",
       "    }\n",
       "\n",
       "    .dataframe thead th {\n",
       "        text-align: right;\n",
       "    }\n",
       "</style>\n",
       "<table border=\"1\" class=\"dataframe\">\n",
       "  <thead>\n",
       "    <tr style=\"text-align: right;\">\n",
       "      <th></th>\n",
       "      <th>TEXTS</th>\n",
       "      <th>LINKS</th>\n",
       "    </tr>\n",
       "  </thead>\n",
       "  <tbody>\n",
       "    <tr>\n",
       "      <th>0</th>\n",
       "      <td>Department for the Aging (DFTA) Geriatric Ment...</td>\n",
       "      <td>https://catalog.data.gov//dataset/department-f...</td>\n",
       "    </tr>\n",
       "    <tr>\n",
       "      <th>1</th>\n",
       "      <td>Low-altitude aerial imagery obtained with unma...</td>\n",
       "      <td>https://catalog.data.gov//dataset/low-altitude...</td>\n",
       "    </tr>\n",
       "    <tr>\n",
       "      <th>2</th>\n",
       "      <td>Forestry Planting Spaces</td>\n",
       "      <td>https://catalog.data.gov//dataset/forestry-pla...</td>\n",
       "    </tr>\n",
       "    <tr>\n",
       "      <th>3</th>\n",
       "      <td>2006 - 2011 NYS Math Test Results by Grade - C...</td>\n",
       "      <td>https://catalog.data.gov//dataset/2006-2011-ny...</td>\n",
       "    </tr>\n",
       "    <tr>\n",
       "      <th>4</th>\n",
       "      <td>High Operational Temperature MWIR detectors wi...</td>\n",
       "      <td>https://catalog.data.gov//dataset/high-operati...</td>\n",
       "    </tr>\n",
       "    <tr>\n",
       "      <th>...</th>\n",
       "      <td>...</td>\n",
       "      <td>...</td>\n",
       "    </tr>\n",
       "    <tr>\n",
       "      <th>195</th>\n",
       "      <td>NOAA/WDS Paleoclimatology - panFMP</td>\n",
       "      <td>https://catalog.data.gov//dataset/noaa-wds-pal...</td>\n",
       "    </tr>\n",
       "    <tr>\n",
       "      <th>196</th>\n",
       "      <td>NOAA/WDS Paleoclimatology - University of Patras</td>\n",
       "      <td>https://catalog.data.gov//dataset/noaa-wds-pal...</td>\n",
       "    </tr>\n",
       "    <tr>\n",
       "      <th>197</th>\n",
       "      <td>NOAA/WDS Paleoclimatology - St. Petersburg Coa...</td>\n",
       "      <td>https://catalog.data.gov//dataset/noaa-wds-pal...</td>\n",
       "    </tr>\n",
       "    <tr>\n",
       "      <th>198</th>\n",
       "      <td>NOAA/WDS Paleoclimatology - The Museum of the ...</td>\n",
       "      <td>https://catalog.data.gov//dataset/noaa-wds-pal...</td>\n",
       "    </tr>\n",
       "    <tr>\n",
       "      <th>199</th>\n",
       "      <td>NOAA/WDS Paleoclimatology - national phenologi...</td>\n",
       "      <td>https://catalog.data.gov//dataset/noaa-wds-pal...</td>\n",
       "    </tr>\n",
       "  </tbody>\n",
       "</table>\n",
       "<p>200 rows × 2 columns</p>\n",
       "</div>"
      ],
      "text/plain": [
       "                                                 TEXTS  \\\n",
       "0    Department for the Aging (DFTA) Geriatric Ment...   \n",
       "1    Low-altitude aerial imagery obtained with unma...   \n",
       "2                             Forestry Planting Spaces   \n",
       "3    2006 - 2011 NYS Math Test Results by Grade - C...   \n",
       "4    High Operational Temperature MWIR detectors wi...   \n",
       "..                                                 ...   \n",
       "195                 NOAA/WDS Paleoclimatology - panFMP   \n",
       "196   NOAA/WDS Paleoclimatology - University of Patras   \n",
       "197  NOAA/WDS Paleoclimatology - St. Petersburg Coa...   \n",
       "198  NOAA/WDS Paleoclimatology - The Museum of the ...   \n",
       "199  NOAA/WDS Paleoclimatology - national phenologi...   \n",
       "\n",
       "                                                 LINKS  \n",
       "0    https://catalog.data.gov//dataset/department-f...  \n",
       "1    https://catalog.data.gov//dataset/low-altitude...  \n",
       "2    https://catalog.data.gov//dataset/forestry-pla...  \n",
       "3    https://catalog.data.gov//dataset/2006-2011-ny...  \n",
       "4    https://catalog.data.gov//dataset/high-operati...  \n",
       "..                                                 ...  \n",
       "195  https://catalog.data.gov//dataset/noaa-wds-pal...  \n",
       "196  https://catalog.data.gov//dataset/noaa-wds-pal...  \n",
       "197  https://catalog.data.gov//dataset/noaa-wds-pal...  \n",
       "198  https://catalog.data.gov//dataset/noaa-wds-pal...  \n",
       "199  https://catalog.data.gov//dataset/noaa-wds-pal...  \n",
       "\n",
       "[200 rows x 2 columns]"
      ]
     },
     "execution_count": 8,
     "metadata": {},
     "output_type": "execute_result"
    }
   ],
   "source": [
    "df = pd.DataFrame(data={\"TEXTS\":texts,\"LINKS\":links})\n",
    "df"
   ]
  },
  {
   "cell_type": "code",
   "execution_count": null,
   "metadata": {},
   "outputs": [],
   "source": []
  }
 ],
 "metadata": {
  "kernelspec": {
   "display_name": "Python 3",
   "language": "python",
   "name": "python3"
  },
  "language_info": {
   "codemirror_mode": {
    "name": "ipython",
    "version": 3
   },
   "file_extension": ".py",
   "mimetype": "text/x-python",
   "name": "python",
   "nbconvert_exporter": "python",
   "pygments_lexer": "ipython3",
   "version": "3.8.5"
  }
 },
 "nbformat": 4,
 "nbformat_minor": 4
}
