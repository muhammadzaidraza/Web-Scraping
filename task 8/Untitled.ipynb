{
 "cells": [
  {
   "cell_type": "markdown",
   "metadata": {},
   "source": [
    "Write a Python program to download IMDB's Top 250 data (movie name, Initial release, director name and stars"
   ]
  },
  {
   "cell_type": "code",
   "execution_count": 2,
   "metadata": {},
   "outputs": [],
   "source": [
    "import requests\n",
    "from bs4 import BeautifulSoup\n",
    "import pandas as pd\n",
    "\n",
    "movie_name=[]\n",
    "release_date=[]\n",
    "rating=[]\n",
    "stars=[]\n",
    "sample=[]\n",
    "dir_name=[]\n",
    "Date=[]\n",
    "\n",
    "\n",
    "html = requests.get(\"https://www.imdb.com/chart/top/\")\n",
    "soup = BeautifulSoup(html.content,\"lxml\")\n",
    "\n",
    "for container in soup.tbody.find_all(\"tr\"):\n",
    "    movie_name.append(container.find(\"td\",{\"class\":\"titleColumn\"}).a.text)\n",
    "    release_date.append(container.find(\"td\",{\"class\":\"titleColumn\"}).span.text)\n",
    "    rating.append(container.find(\"td\",{\"class\":\"ratingColumn imdbRating\"}).strong.text)\n",
    "    sample.append(container.find(\"td\",{\"class\":\"titleColumn\"}).a[\"title\"])\n",
    "\n",
    "for strings in sample:\n",
    "    lst = strings.split(\"(dir.),\",2)\n",
    "    dir_name.append(lst[0])\n",
    "    stars.append(lst[1])\n",
    "\n",
    "bad_chars=[\"(\",\")\"]\n",
    "for date in release_date:\n",
    "    for i in bad_chars:\n",
    "        date = date.replace(i,\"\")\n",
    "    Date.append(date)\n",
    "    \n",
    "\n",
    "ibdb_data={\n",
    "    \"Movie Name\":movie_name,\n",
    "    \"Director Name\":dir_name,\n",
    "    \"Stars\":stars,\n",
    "    \"Movie Rating\":rating,\n",
    "    \"Release Date\":Date\n",
    "}\n",
    "\n",
    "df = pd.DataFrame(data=ibdb_data)\n",
    "df.to_csv(\"imdb_data.csv\")\n",
    "df.to_excel(\"imdb_data.xlsx\")"
   ]
  },
  {
   "cell_type": "code",
   "execution_count": null,
   "metadata": {},
   "outputs": [],
   "source": []
  }
 ],
 "metadata": {
  "kernelspec": {
   "display_name": "Python 3",
   "language": "python",
   "name": "python3"
  },
  "language_info": {
   "codemirror_mode": {
    "name": "ipython",
    "version": 3
   },
   "file_extension": ".py",
   "mimetype": "text/x-python",
   "name": "python",
   "nbconvert_exporter": "python",
   "pygments_lexer": "ipython3",
   "version": "3.8.3"
  }
 },
 "nbformat": 4,
 "nbformat_minor": 4
}
